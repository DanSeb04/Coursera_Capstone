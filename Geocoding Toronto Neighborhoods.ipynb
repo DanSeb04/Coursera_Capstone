{
    "nbformat_minor": 1, 
    "cells": [
        {
            "source": "### Geocoding Toronto Neighborhoods", 
            "cell_type": "markdown", 
            "metadata": {
                "collapsed": true
            }
        }, 
        {
            "source": "Data Wrangling", 
            "cell_type": "markdown", 
            "metadata": {}
        }, 
        {
            "execution_count": 1, 
            "cell_type": "code", 
            "metadata": {}, 
            "outputs": [], 
            "source": "import pandas as pd"
        }, 
        {
            "execution_count": 4, 
            "cell_type": "code", 
            "metadata": {}, 
            "outputs": [
                {
                    "execution_count": 4, 
                    "metadata": {}, 
                    "data": {
                        "text/html": "<div>\n<style scoped>\n    .dataframe tbody tr th:only-of-type {\n        vertical-align: middle;\n    }\n\n    .dataframe tbody tr th {\n        vertical-align: top;\n    }\n\n    .dataframe thead th {\n        text-align: right;\n    }\n</style>\n<table border=\"1\" class=\"dataframe\">\n  <thead>\n    <tr style=\"text-align: right;\">\n      <th></th>\n      <th>Postcode</th>\n      <th>Borough</th>\n      <th>Neighbourhood</th>\n    </tr>\n  </thead>\n  <tbody>\n    <tr>\n      <th>0</th>\n      <td>M3A</td>\n      <td>North York</td>\n      <td>Parkwoods,South of Bloor,Royal York South West...</td>\n    </tr>\n    <tr>\n      <th>1</th>\n      <td>M4A</td>\n      <td>North York</td>\n      <td>Victoria Village,Parkwoods,South of Bloor,Roya...</td>\n    </tr>\n    <tr>\n      <th>2</th>\n      <td>M5A</td>\n      <td>Downtown Toronto</td>\n      <td>Regent Park,Harbourfront,Victoria Village,Park...</td>\n    </tr>\n    <tr>\n      <th>3</th>\n      <td>M6A</td>\n      <td>North York</td>\n      <td>Lawrence Manor,Lawrence Heights,Regent Park,Ha...</td>\n    </tr>\n    <tr>\n      <th>4</th>\n      <td>M7A</td>\n      <td>Queen's Park</td>\n      <td>Queen's Park,Lawrence Manor,Lawrence Heights,R...</td>\n    </tr>\n  </tbody>\n</table>\n</div>", 
                        "text/plain": "  Postcode           Borough  \\\n0      M3A        North York   \n1      M4A        North York   \n2      M5A  Downtown Toronto   \n3      M6A        North York   \n4      M7A      Queen's Park   \n\n                                       Neighbourhood  \n0  Parkwoods,South of Bloor,Royal York South West...  \n1  Victoria Village,Parkwoods,South of Bloor,Roya...  \n2  Regent Park,Harbourfront,Victoria Village,Park...  \n3  Lawrence Manor,Lawrence Heights,Regent Park,Ha...  \n4  Queen's Park,Lawrence Manor,Lawrence Heights,R...  "
                    }, 
                    "output_type": "execute_result"
                }
            ], 
            "source": "Toronto_df=pd.read_html(\"https://en.wikipedia.org/wiki/List_of_postal_codes_of_Canada:_M\")[0]\nToronto_df = Toronto_df[Toronto_df.Borough != 'Not assigned']\n\nfor index, val in Toronto_df['Neighbourhood'].items():\n        if 'Not assigned'==val:\n            Toronto_df['Neighbourhood'][index]=Toronto_df['Borough'][index]\n\ncodes = Toronto_df['Postcode'].unique()\n\nToronto_df.reset_index(inplace=True)\nToronto_df.drop(columns='index', inplace=True)\n\nfinal_df = pd.DataFrame(columns=['Postcode', 'Borough', 'Neighbourhood'])\n\nfor code in codes:\n    for index, val in Toronto_df['Postcode'].items():\n        if code==val:\n            neighs=Toronto_df['Neighbourhood'][index]+\",\"+neighs\n            bor= Toronto_df['Borough'][index]\n        \n            \n    \n    final_df = final_df.append({'Postcode': code, 'Borough':bor, 'Neighbourhood':  neighs}, ignore_index=True)\n\nfinal_df.head()"
        }, 
        {
            "execution_count": 13, 
            "cell_type": "code", 
            "metadata": {}, 
            "outputs": [
                {
                    "execution_count": 13, 
                    "metadata": {}, 
                    "data": {
                        "text/html": "<div>\n<style scoped>\n    .dataframe tbody tr th:only-of-type {\n        vertical-align: middle;\n    }\n\n    .dataframe tbody tr th {\n        vertical-align: top;\n    }\n\n    .dataframe thead th {\n        text-align: right;\n    }\n</style>\n<table border=\"1\" class=\"dataframe\">\n  <thead>\n    <tr style=\"text-align: right;\">\n      <th></th>\n      <th>Postal Code</th>\n      <th>Latitude</th>\n      <th>Longitude</th>\n    </tr>\n  </thead>\n  <tbody>\n    <tr>\n      <th>0</th>\n      <td>M1B</td>\n      <td>43.806686</td>\n      <td>-79.194353</td>\n    </tr>\n    <tr>\n      <th>1</th>\n      <td>M1C</td>\n      <td>43.784535</td>\n      <td>-79.160497</td>\n    </tr>\n    <tr>\n      <th>2</th>\n      <td>M1E</td>\n      <td>43.763573</td>\n      <td>-79.188711</td>\n    </tr>\n    <tr>\n      <th>3</th>\n      <td>M1G</td>\n      <td>43.770992</td>\n      <td>-79.216917</td>\n    </tr>\n    <tr>\n      <th>4</th>\n      <td>M1H</td>\n      <td>43.773136</td>\n      <td>-79.239476</td>\n    </tr>\n  </tbody>\n</table>\n</div>", 
                        "text/plain": "  Postal Code   Latitude  Longitude\n0         M1B  43.806686 -79.194353\n1         M1C  43.784535 -79.160497\n2         M1E  43.763573 -79.188711\n3         M1G  43.770992 -79.216917\n4         M1H  43.773136 -79.239476"
                    }, 
                    "output_type": "execute_result"
                }
            ], 
            "source": "geo_df = pd.read_csv('http://cocl.us/Geospatial_data')\ngeo_df.head()"
        }, 
        {
            "execution_count": 18, 
            "cell_type": "code", 
            "metadata": {}, 
            "outputs": [], 
            "source": "final_df['Latitude']=\"\"\nfinal_df['Longitude']=\"\""
        }, 
        {
            "execution_count": 19, 
            "cell_type": "code", 
            "metadata": {}, 
            "outputs": [
                {
                    "execution_count": 19, 
                    "metadata": {}, 
                    "data": {
                        "text/html": "<div>\n<style scoped>\n    .dataframe tbody tr th:only-of-type {\n        vertical-align: middle;\n    }\n\n    .dataframe tbody tr th {\n        vertical-align: top;\n    }\n\n    .dataframe thead th {\n        text-align: right;\n    }\n</style>\n<table border=\"1\" class=\"dataframe\">\n  <thead>\n    <tr style=\"text-align: right;\">\n      <th></th>\n      <th>Postcode</th>\n      <th>Borough</th>\n      <th>Neighbourhood</th>\n      <th>Latitude</th>\n      <th>Longitude</th>\n    </tr>\n  </thead>\n  <tbody>\n    <tr>\n      <th>0</th>\n      <td>M3A</td>\n      <td>North York</td>\n      <td>Parkwoods,South of Bloor,Royal York South West...</td>\n      <td></td>\n      <td></td>\n    </tr>\n    <tr>\n      <th>1</th>\n      <td>M4A</td>\n      <td>North York</td>\n      <td>Victoria Village,Parkwoods,South of Bloor,Roya...</td>\n      <td></td>\n      <td></td>\n    </tr>\n    <tr>\n      <th>2</th>\n      <td>M5A</td>\n      <td>Downtown Toronto</td>\n      <td>Regent Park,Harbourfront,Victoria Village,Park...</td>\n      <td></td>\n      <td></td>\n    </tr>\n    <tr>\n      <th>3</th>\n      <td>M6A</td>\n      <td>North York</td>\n      <td>Lawrence Manor,Lawrence Heights,Regent Park,Ha...</td>\n      <td></td>\n      <td></td>\n    </tr>\n    <tr>\n      <th>4</th>\n      <td>M7A</td>\n      <td>Queen's Park</td>\n      <td>Queen's Park,Lawrence Manor,Lawrence Heights,R...</td>\n      <td></td>\n      <td></td>\n    </tr>\n  </tbody>\n</table>\n</div>", 
                        "text/plain": "  Postcode           Borough  \\\n0      M3A        North York   \n1      M4A        North York   \n2      M5A  Downtown Toronto   \n3      M6A        North York   \n4      M7A      Queen's Park   \n\n                                       Neighbourhood Latitude Longitude  \n0  Parkwoods,South of Bloor,Royal York South West...                     \n1  Victoria Village,Parkwoods,South of Bloor,Roya...                     \n2  Regent Park,Harbourfront,Victoria Village,Park...                     \n3  Lawrence Manor,Lawrence Heights,Regent Park,Ha...                     \n4  Queen's Park,Lawrence Manor,Lawrence Heights,R...                     "
                    }, 
                    "output_type": "execute_result"
                }
            ], 
            "source": "final_df.head()"
        }, 
        {
            "execution_count": 26, 
            "cell_type": "code", 
            "metadata": {}, 
            "outputs": [], 
            "source": "for ind, valor in geo_df['Postal Code'].items():\n    for index, val in final_df['Postcode'].items():\n        if valor==val:\n            final_df['Latitude'][index]=geo_df['Latitude'][ind]\n            final_df['Longitude'][index]=geo_df['Longitude'][ind]"
        }, 
        {
            "execution_count": 27, 
            "cell_type": "code", 
            "metadata": {}, 
            "outputs": [
                {
                    "execution_count": 27, 
                    "metadata": {}, 
                    "data": {
                        "text/html": "<div>\n<style scoped>\n    .dataframe tbody tr th:only-of-type {\n        vertical-align: middle;\n    }\n\n    .dataframe tbody tr th {\n        vertical-align: top;\n    }\n\n    .dataframe thead th {\n        text-align: right;\n    }\n</style>\n<table border=\"1\" class=\"dataframe\">\n  <thead>\n    <tr style=\"text-align: right;\">\n      <th></th>\n      <th>Postcode</th>\n      <th>Borough</th>\n      <th>Neighbourhood</th>\n      <th>Latitude</th>\n      <th>Longitude</th>\n    </tr>\n  </thead>\n  <tbody>\n    <tr>\n      <th>0</th>\n      <td>M3A</td>\n      <td>North York</td>\n      <td>Parkwoods,South of Bloor,Royal York South West...</td>\n      <td>43.7533</td>\n      <td>-79.3297</td>\n    </tr>\n    <tr>\n      <th>1</th>\n      <td>M4A</td>\n      <td>North York</td>\n      <td>Victoria Village,Parkwoods,South of Bloor,Roya...</td>\n      <td>43.7259</td>\n      <td>-79.3156</td>\n    </tr>\n    <tr>\n      <th>2</th>\n      <td>M5A</td>\n      <td>Downtown Toronto</td>\n      <td>Regent Park,Harbourfront,Victoria Village,Park...</td>\n      <td>43.6543</td>\n      <td>-79.3606</td>\n    </tr>\n    <tr>\n      <th>3</th>\n      <td>M6A</td>\n      <td>North York</td>\n      <td>Lawrence Manor,Lawrence Heights,Regent Park,Ha...</td>\n      <td>43.7185</td>\n      <td>-79.4648</td>\n    </tr>\n    <tr>\n      <th>4</th>\n      <td>M7A</td>\n      <td>Queen's Park</td>\n      <td>Queen's Park,Lawrence Manor,Lawrence Heights,R...</td>\n      <td>43.6623</td>\n      <td>-79.3895</td>\n    </tr>\n  </tbody>\n</table>\n</div>", 
                        "text/plain": "  Postcode           Borough  \\\n0      M3A        North York   \n1      M4A        North York   \n2      M5A  Downtown Toronto   \n3      M6A        North York   \n4      M7A      Queen's Park   \n\n                                       Neighbourhood Latitude Longitude  \n0  Parkwoods,South of Bloor,Royal York South West...  43.7533  -79.3297  \n1  Victoria Village,Parkwoods,South of Bloor,Roya...  43.7259  -79.3156  \n2  Regent Park,Harbourfront,Victoria Village,Park...  43.6543  -79.3606  \n3  Lawrence Manor,Lawrence Heights,Regent Park,Ha...  43.7185  -79.4648  \n4  Queen's Park,Lawrence Manor,Lawrence Heights,R...  43.6623  -79.3895  "
                    }, 
                    "output_type": "execute_result"
                }
            ], 
            "source": "final_df.head()"
        }, 
        {
            "execution_count": null, 
            "cell_type": "code", 
            "metadata": {}, 
            "outputs": [], 
            "source": ""
        }
    ], 
    "metadata": {
        "kernelspec": {
            "display_name": "Python 3.6", 
            "name": "python3", 
            "language": "python"
        }, 
        "language_info": {
            "mimetype": "text/x-python", 
            "nbconvert_exporter": "python", 
            "version": "3.6.8", 
            "name": "python", 
            "file_extension": ".py", 
            "pygments_lexer": "ipython3", 
            "codemirror_mode": {
                "version": 3, 
                "name": "ipython"
            }
        }
    }, 
    "nbformat": 4
}